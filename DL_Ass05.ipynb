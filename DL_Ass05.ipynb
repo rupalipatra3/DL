{
  "cells": [
    {
      "cell_type": "code",
      "execution_count": 1,
      "id": "47566887",
      "metadata": {
        "colab": {
          "base_uri": "https://localhost:8080/",
          "height": 36
        },
        "id": "47566887",
        "outputId": "88512cd9-9184-43b2-8e47-3b7d952b755b"
      },
      "outputs": [
        {
          "output_type": "execute_result",
          "data": {
            "text/plain": [
              "'Lab Assignment: 05\\nName : Dhruti Kamat\\nroll no : 23\\nBE(IT)'"
            ],
            "application/vnd.google.colaboratory.intrinsic+json": {
              "type": "string"
            }
          },
          "metadata": {},
          "execution_count": 1
        }
      ],
      "source": [
        "'''Lab Assignment: 05\n",
        "Name : Dhruti Kamat\n",
        "roll no : 23\n",
        "BE(IT)'''"
      ]
    },
    {
      "cell_type": "code",
      "source": [
        "'''Implement the Continuous Bag of Words (CBOW) Model. Stages can be:\n",
        "a. Data preparation\n",
        "b. Generate training data\n",
        "c. Train model\n",
        "d. Output'''"
      ],
      "metadata": {
        "colab": {
          "base_uri": "https://localhost:8080/",
          "height": 36
        },
        "id": "pHUq1J4qKFUB",
        "outputId": "b4c95f47-f971-41a8-9aa9-3a3055696f82"
      },
      "id": "pHUq1J4qKFUB",
      "execution_count": 2,
      "outputs": [
        {
          "output_type": "execute_result",
          "data": {
            "text/plain": [
              "'Implement the Continuous Bag of Words (CBOW) Model. Stages can be:\\na. Data preparation\\nb. Generate training data\\nc. Train model\\nd. Output'"
            ],
            "application/vnd.google.colaboratory.intrinsic+json": {
              "type": "string"
            }
          },
          "metadata": {},
          "execution_count": 2
        }
      ]
    },
    {
      "cell_type": "code",
      "execution_count": 3,
      "id": "6deebe40",
      "metadata": {
        "id": "6deebe40"
      },
      "outputs": [],
      "source": [
        "import matplotlib.pyplot as plt\n",
        "import seaborn as sns\n",
        "import matplotlib as mpl\n",
        "import matplotlib.pylab as pylab\n",
        "import numpy as np\n",
        "%matplotlib inline"
      ]
    },
    {
      "cell_type": "code",
      "execution_count": 4,
      "id": "7501f873",
      "metadata": {
        "id": "7501f873"
      },
      "outputs": [],
      "source": [
        "#Data Prepration\n",
        "import re"
      ]
    },
    {
      "cell_type": "code",
      "execution_count": 5,
      "id": "c2cf4399",
      "metadata": {
        "id": "c2cf4399"
      },
      "outputs": [],
      "source": [
        "sentences = \"\"\"We are about to study the idea of a computational process.\n",
        "Computational processes are abstract beings that inhabit computers.\n",
        "As they evolve, processes manipulate other abstract things called data.\n",
        "The evolution of a process is directed by a pattern of rules\n",
        "called a program. People create programs to direct processes. In effect,\n",
        "we conjure the spirits of the computer with our spells.\"\"\""
      ]
    },
    {
      "cell_type": "code",
      "execution_count": 6,
      "id": "f68d3e9c",
      "metadata": {
        "id": "f68d3e9c"
      },
      "outputs": [],
      "source": [
        "# Clean Data\n",
        "\n",
        "# remove special characters\n",
        "sentences = re.sub('[^A-Za-z0-9]+', ' ', sentences)\n",
        "\n",
        "# remove 1 letter words\n",
        "sentences = re.sub(r'(?:^| )\\w(?:$| )', ' ', sentences).strip()\n",
        "\n",
        "# lower all characters\n",
        "sentences = sentences.lower()"
      ]
    },
    {
      "cell_type": "code",
      "execution_count": 7,
      "id": "45a8cb65",
      "metadata": {
        "id": "45a8cb65"
      },
      "outputs": [],
      "source": [
        "#Vocabulary\n",
        "\n",
        "words = sentences.split()\n",
        "vocab = set(words)"
      ]
    },
    {
      "cell_type": "code",
      "execution_count": 8,
      "id": "f37572dc",
      "metadata": {
        "id": "f37572dc"
      },
      "outputs": [],
      "source": [
        "vocab_size = len(vocab)\n",
        "embed_dim = 10\n",
        "context_size = 2"
      ]
    },
    {
      "cell_type": "code",
      "execution_count": 9,
      "id": "ef6d5172",
      "metadata": {
        "id": "ef6d5172"
      },
      "outputs": [],
      "source": [
        "#Implementation\n",
        "\n",
        "word_to_ix = {word: i for i, word in enumerate(vocab)}\n",
        "ix_to_word = {i: word for i, word in enumerate(vocab)}"
      ]
    },
    {
      "cell_type": "code",
      "execution_count": 10,
      "id": "25d063d0",
      "metadata": {
        "colab": {
          "base_uri": "https://localhost:8080/"
        },
        "id": "25d063d0",
        "outputId": "c5e8046c-7fa3-4598-a0f0-45cabb294891"
      },
      "outputs": [
        {
          "output_type": "stream",
          "name": "stdout",
          "text": [
            "[(['we', 'are', 'to', 'study'], 'about'), (['are', 'about', 'study', 'the'], 'to'), (['about', 'to', 'the', 'idea'], 'study'), (['to', 'study', 'idea', 'of'], 'the'), (['study', 'the', 'of', 'computational'], 'idea')]\n"
          ]
        }
      ],
      "source": [
        "# Data bags\n",
        "\n",
        "# data - [(context), target]\n",
        "\n",
        "data = []\n",
        "for i in range(2, len(words) - 2):\n",
        "    context = [words[i - 2], words[i - 1], words[i + 1], words[i + 2]]\n",
        "    target = words[i]\n",
        "    data.append((context, target))\n",
        "print(data[:5])"
      ]
    },
    {
      "cell_type": "code",
      "execution_count": 11,
      "id": "0601eeea",
      "metadata": {
        "id": "0601eeea"
      },
      "outputs": [],
      "source": [
        "#Embedding\n",
        "embeddings =  np.random.random_sample((vocab_size, embed_dim))"
      ]
    },
    {
      "cell_type": "code",
      "execution_count": 12,
      "id": "63554686",
      "metadata": {
        "id": "63554686"
      },
      "outputs": [],
      "source": [
        "# Linear Model\n",
        "def linear(m, theta):\n",
        "    w = theta\n",
        "    return m.dot(w)"
      ]
    },
    {
      "cell_type": "code",
      "execution_count": 13,
      "id": "6dbefcbc",
      "metadata": {
        "id": "6dbefcbc"
      },
      "outputs": [],
      "source": [
        "# Log softmax + NLLloss = Cross Entropy\n",
        "\n",
        "def log_softmax(x):\n",
        "    e_x = np.exp(x - np.max(x))\n",
        "    return np.log(e_x / e_x.sum())"
      ]
    },
    {
      "cell_type": "code",
      "execution_count": 14,
      "id": "a7796bee",
      "metadata": {
        "id": "a7796bee"
      },
      "outputs": [],
      "source": [
        "def NLLLoss(logs, targets):\n",
        "    out = logs[range(len(targets)), targets]\n",
        "    return -out.sum()/len(out)"
      ]
    },
    {
      "cell_type": "code",
      "execution_count": 15,
      "id": "640942e6",
      "metadata": {
        "id": "640942e6"
      },
      "outputs": [],
      "source": [
        "def log_softmax_crossentropy_with_logits(logits,target):\n",
        "\n",
        "    out = np.zeros_like(logits)\n",
        "    out[np.arange(len(logits)),target] = 1\n",
        "\n",
        "    softmax = np.exp(logits) / np.exp(logits).sum(axis=-1,keepdims=True)\n",
        "\n",
        "    return (- out + softmax) / logits.shape[0]"
      ]
    },
    {
      "cell_type": "code",
      "execution_count": 16,
      "id": "943c3a28",
      "metadata": {
        "id": "943c3a28"
      },
      "outputs": [],
      "source": [
        "#Forward function\n",
        "\n",
        "def forward(context_idxs, theta):\n",
        "    m = embeddings[context_idxs].reshape(1, -1)\n",
        "    n = linear(m, theta)\n",
        "    o = log_softmax(n)\n",
        "\n",
        "    return m, n, o"
      ]
    },
    {
      "cell_type": "code",
      "execution_count": 17,
      "id": "b5085ed8",
      "metadata": {
        "id": "b5085ed8"
      },
      "outputs": [],
      "source": [
        "def backward(preds, theta, target_idxs):\n",
        "    m, n, o = preds\n",
        "\n",
        "    dlog = log_softmax_crossentropy_with_logits(n, target_idxs)\n",
        "    dw = m.T.dot(dlog)\n",
        "\n",
        "    return dw"
      ]
    },
    {
      "cell_type": "code",
      "execution_count": 18,
      "id": "797b80ce",
      "metadata": {
        "id": "797b80ce"
      },
      "outputs": [],
      "source": [
        "# Optimize function\n",
        "\n",
        "def optimize(theta, grad, lr=0.03):\n",
        "    theta -= grad * lr\n",
        "    return theta"
      ]
    },
    {
      "cell_type": "code",
      "execution_count": 19,
      "id": "07ab0dc7",
      "metadata": {
        "id": "07ab0dc7"
      },
      "outputs": [],
      "source": [
        "# Training\n",
        "\n",
        "#Genrate training data\n",
        "\n",
        "theta = np.random.uniform(-1, 1, (2 * context_size * embed_dim, vocab_size))"
      ]
    },
    {
      "cell_type": "code",
      "execution_count": 20,
      "id": "a4e6971e",
      "metadata": {
        "id": "a4e6971e"
      },
      "outputs": [],
      "source": [
        "epoch_losses = {}\n",
        "\n",
        "for epoch in range(80):\n",
        "\n",
        "    losses =  []\n",
        "\n",
        "    for context, target in data:\n",
        "        context_idxs = np.array([word_to_ix[w] for w in context])\n",
        "        preds = forward(context_idxs, theta)\n",
        "\n",
        "        target_idxs = np.array([word_to_ix[target]])\n",
        "        loss = NLLLoss(preds[-1], target_idxs)\n",
        "\n",
        "        losses.append(loss)\n",
        "\n",
        "        grad = backward(preds, theta, target_idxs)\n",
        "        theta = optimize(theta, grad, lr=0.03)\n",
        "\n",
        "\n",
        "    epoch_losses[epoch] = losses"
      ]
    },
    {
      "cell_type": "code",
      "execution_count": 21,
      "id": "0d0ba2b3",
      "metadata": {
        "colab": {
          "base_uri": "https://localhost:8080/",
          "height": 519
        },
        "id": "0d0ba2b3",
        "outputId": "2a01f597-6f92-4a29-bb0b-57b6ed781b40"
      },
      "outputs": [
        {
          "output_type": "execute_result",
          "data": {
            "text/plain": [
              "Text(0, 0.5, 'Losses')"
            ]
          },
          "metadata": {},
          "execution_count": 21
        },
        {
          "output_type": "display_data",
          "data": {
            "text/plain": [
              "<Figure size 640x480 with 1 Axes>"
            ],
            "image/png": "[encoded data removed]"
          },
          "metadata": {}
        }
      ],
      "source": [
        "# Analyze\n",
        "# Plot loss/epoch\n",
        "\n",
        "ix = np.arange(0,80)\n",
        "\n",
        "fig = plt.figure()\n",
        "fig.suptitle('Epoch/Losses', fontsize=20)\n",
        "plt.plot(ix,[epoch_losses[i][0] for i in ix])\n",
        "plt.xlabel('Epochs', fontsize=12)\n",
        "plt.ylabel('Losses', fontsize=12)"
      ]
    },
    {
      "cell_type": "code",
      "execution_count": 22,
      "id": "9b63bfb4",
      "metadata": {
        "id": "9b63bfb4"
      },
      "outputs": [],
      "source": [
        "# Predict function\n",
        "\n",
        "def predict(words):\n",
        "    context_idxs = np.array([word_to_ix[w] for w in words])\n",
        "    preds = forward(context_idxs, theta)\n",
        "    word = ix_to_word[np.argmax(preds[-1])]\n",
        "\n",
        "    return word"
      ]
    },
    {
      "cell_type": "code",
      "execution_count": 23,
      "id": "8237536c",
      "metadata": {
        "colab": {
          "base_uri": "https://localhost:8080/",
          "height": 36
        },
        "id": "8237536c",
        "outputId": "1561b1f5-b91f-48b3-f29c-0602c040e537"
      },
      "outputs": [
        {
          "output_type": "execute_result",
          "data": {
            "text/plain": [
              "'about'"
            ],
            "application/vnd.google.colaboratory.intrinsic+json": {
              "type": "string"
            }
          },
          "metadata": {},
          "execution_count": 23
        }
      ],
      "source": [
        "# (['we', 'are', 'to', 'study'], 'about')\n",
        "predict(['we', 'are', 'to', 'study'])"
      ]
    },
    {
      "cell_type": "code",
      "execution_count": 24,
      "id": "17af78a5",
      "metadata": {
        "id": "17af78a5"
      },
      "outputs": [],
      "source": [
        "# Accuracy\n",
        "\n",
        "def accuracy():\n",
        "    wrong = 0\n",
        "\n",
        "    for context, target in data:\n",
        "        if(predict(context) != target):\n",
        "            wrong += 1\n",
        "\n",
        "    return (1 - (wrong / len(data)))"
      ]
    },
    {
      "cell_type": "code",
      "execution_count": 25,
      "id": "22ed7c5d",
      "metadata": {
        "colab": {
          "base_uri": "https://localhost:8080/"
        },
        "id": "22ed7c5d",
        "outputId": "d7c8513a-d57b-485e-9b3e-b2d172b7048a"
      },
      "outputs": [
        {
          "output_type": "execute_result",
          "data": {
            "text/plain": [
              "1.0"
            ]
          },
          "metadata": {},
          "execution_count": 25
        }
      ],
      "source": [
        "accuracy()"
      ]
    },
    {
      "cell_type": "code",
      "execution_count": 26,
      "id": "f213472d",
      "metadata": {
        "colab": {
          "base_uri": "https://localhost:8080/",
          "height": 36
        },
        "id": "f213472d",
        "outputId": "de1c89fa-29cb-469f-975c-02b4b1273cfd"
      },
      "outputs": [
        {
          "output_type": "execute_result",
          "data": {
            "text/plain": [
              "'idea'"
            ],
            "application/vnd.google.colaboratory.intrinsic+json": {
              "type": "string"
            }
          },
          "metadata": {},
          "execution_count": 26
        }
      ],
      "source": [
        "predict(['processes', 'manipulate', 'things', 'study'])"
      ]
    },
    {
      "cell_type": "code",
      "execution_count": 26,
      "id": "45ec1ca1",
      "metadata": {
        "id": "45ec1ca1"
      },
      "outputs": [],
      "source": []
    }
  ],
  "metadata": {
    "kernelspec": {
      "display_name": "Python 3 (ipykernel)",
      "language": "python",
      "name": "python3"
    },
    "language_info": {
      "codemirror_mode": {
        "name": "ipython",
        "version": 3
      },
      "file_extension": ".py",
      "mimetype": "text/x-python",
      "name": "python",
      "nbconvert_exporter": "python",
      "pygments_lexer": "ipython3",
      "version": "3.9.13"
    },
    "colab": {
      "provenance": []
    }
  },
  "nbformat": 4,
  "nbformat_minor": 5
}