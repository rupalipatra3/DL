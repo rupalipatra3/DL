{
  "cells": [
    {
      "cell_type": "code",
      "execution_count": null,
      "metadata": {
        "id": "0zPUpGVDM58l"
      },
      "outputs": [],
      "source": [
        "'''Lab Assignment: 04\n",
        "Name : Dhruti Kamat\n",
        "roll no : 23\n",
        "BE(IT)'''"
      ],
      "id": "0zPUpGVDM58l"
    },
    {
      "cell_type": "code",
      "source": [
        "'''Use Autoencoder to implement anomaly detection. Build the model by using:\n",
        "a. Import required libraries\n",
        "b. Upload / access the dataset\n",
        "c. Encoder converts it into latent representation\n",
        "d. Decoder networks convert it back to the original input\n",
        "e. Compile the models with Optimizer, Loss, and Evaluation Metrics'''"
      ],
      "metadata": {
        "id": "6_Fs7GJTM9m9"
      },
      "id": "6_Fs7GJTM9m9",
      "execution_count": null,
      "outputs": []
    },
    {
      "cell_type": "code",
      "execution_count": null,
      "metadata": {
        "id": "_dE78KJQM58p",
        "outputId": "2aa16eba-340d-41f7-f231-36ae51cdf663"
      },
      "outputs": [
        {
          "name": "stdout",
          "output_type": "stream",
          "text": [
            "Collecting tensorflow==2.12.0Note: you may need to restart the kernel to use updated packages.\n",
            "\n",
            "  Using cached tensorflow-2.12.0-cp38-cp38-win_amd64.whl (1.9 kB)\n",
            "Collecting tensorflow-intel==2.12.0; platform_system == \"Windows\"\n",
            "  Using cached tensorflow_intel-2.12.0-cp38-cp38-win_amd64.whl (272.8 MB)\n",
            "Collecting termcolor>=1.1.0\n",
            "  Downloading termcolor-2.4.0-py3-none-any.whl (7.7 kB)\n",
            "Collecting tensorboard<2.13,>=2.12\n",
            "  Downloading tensorboard-2.12.3-py3-none-any.whl (5.6 MB)\n",
            "Collecting gast<=0.4.0,>=0.2.1\n",
            "  Downloading gast-0.4.0-py3-none-any.whl (9.8 kB)\n",
            "Requirement already satisfied: h5py>=2.9.0 in c:\\programdata\\anaconda3\\lib\\site-packages (from tensorflow-intel==2.12.0; platform_system == \"Windows\"->tensorflow==2.12.0) (2.10.0)\n",
            "Collecting opt-einsum>=2.3.2\n",
            "  Downloading opt_einsum-3.4.0-py3-none-any.whl (71 kB)\n",
            "Collecting grpcio<2.0,>=1.24.3\n",
            "  Downloading grpcio-1.66.2-cp38-cp38-win_amd64.whl (4.3 MB)\n",
            "Collecting flatbuffers>=2.0\n",
            "  Downloading flatbuffers-24.3.25-py2.py3-none-any.whl (26 kB)\n",
            "Collecting keras<2.13,>=2.12.0\n",
            "  Downloading keras-2.12.0-py2.py3-none-any.whl (1.7 MB)\n",
            "Requirement already satisfied: typing-extensions>=3.6.6 in c:\\programdata\\anaconda3\\lib\\site-packages (from tensorflow-intel==2.12.0; platform_system == \"Windows\"->tensorflow==2.12.0) (3.7.4.3)\n",
            "Requirement already satisfied: wrapt<1.15,>=1.11.0 in c:\\programdata\\anaconda3\\lib\\site-packages (from tensorflow-intel==2.12.0; platform_system == \"Windows\"->tensorflow==2.12.0) (1.11.2)\n",
            "Collecting libclang>=13.0.0\n",
            "  Downloading libclang-18.1.1-py2.py3-none-win_amd64.whl (26.4 MB)\n",
            "Requirement already satisfied: packaging in c:\\programdata\\anaconda3\\lib\\site-packages (from tensorflow-intel==2.12.0; platform_system == \"Windows\"->tensorflow==2.12.0) (20.4)\n",
            "Collecting jax>=0.3.15\n",
            "  Downloading jax-0.4.13.tar.gz (1.3 MB)\n",
            "  Installing build dependencies: started\n",
            "  Installing build dependencies: finished with status 'done'\n",
            "  Getting requirements to build wheel: started\n",
            "  Getting requirements to build wheel: finished with status 'done'\n",
            "    Preparing wheel metadata: started\n",
            "    Preparing wheel metadata: finished with status 'done'\n",
            "Requirement already satisfied: six>=1.12.0 in c:\\programdata\\anaconda3\\lib\\site-packages (from tensorflow-intel==2.12.0; platform_system == \"Windows\"->tensorflow==2.12.0) (1.15.0)\n",
            "Collecting protobuf!=4.21.0,!=4.21.1,!=4.21.2,!=4.21.3,!=4.21.4,!=4.21.5,<5.0.0dev,>=3.20.3\n",
            "  Using cached protobuf-4.25.5-cp38-cp38-win_amd64.whl (413 kB)\n",
            "Requirement already satisfied: setuptools in c:\\programdata\\anaconda3\\lib\\site-packages (from tensorflow-intel==2.12.0; platform_system == \"Windows\"->tensorflow==2.12.0) (50.3.1.post20201107)\n",
            "Collecting absl-py>=1.0.0\n",
            "  Downloading absl_py-2.1.0-py3-none-any.whl (133 kB)\n",
            "Collecting tensorflow-estimator<2.13,>=2.12.0\n",
            "  Downloading tensorflow_estimator-2.12.0-py2.py3-none-any.whl (440 kB)\n",
            "Collecting google-pasta>=0.1.1\n",
            "  Using cached google_pasta-0.2.0-py3-none-any.whl (57 kB)\n",
            "Collecting tensorflow-io-gcs-filesystem>=0.23.1; platform_machine != \"arm64\" or platform_system != \"Darwin\"\n",
            "  Using cached tensorflow_io_gcs_filesystem-0.31.0-cp38-cp38-win_amd64.whl (1.5 MB)\n",
            "Collecting astunparse>=1.6.0\n",
            "  Downloading astunparse-1.6.3-py2.py3-none-any.whl (12 kB)\n",
            "Collecting numpy<1.24,>=1.22\n",
            "  Using cached numpy-1.23.5-cp38-cp38-win_amd64.whl (14.7 MB)\n",
            "Collecting google-auth<3,>=1.6.3\n",
            "  Downloading google_auth-2.35.0-py2.py3-none-any.whl (208 kB)\n",
            "Requirement already satisfied: requests<3,>=2.21.0 in c:\\programdata\\anaconda3\\lib\\site-packages (from tensorboard<2.13,>=2.12->tensorflow-intel==2.12.0; platform_system == \"Windows\"->tensorflow==2.12.0) (2.24.0)\n",
            "Collecting google-auth-oauthlib<1.1,>=0.5\n",
            "  Downloading google_auth_oauthlib-1.0.0-py2.py3-none-any.whl (18 kB)\n",
            "Collecting tensorboard-data-server<0.8.0,>=0.7.0\n",
            "  Downloading tensorboard_data_server-0.7.2-py3-none-any.whl (2.4 kB)\n",
            "Collecting markdown>=2.6.8\n",
            "  Downloading Markdown-3.7-py3-none-any.whl (106 kB)\n",
            "Requirement already satisfied: wheel>=0.26 in c:\\programdata\\anaconda3\\lib\\site-packages (from tensorboard<2.13,>=2.12->tensorflow-intel==2.12.0; platform_system == \"Windows\"->tensorflow==2.12.0) (0.35.1)\n",
            "Requirement already satisfied: werkzeug>=1.0.1 in c:\\programdata\\anaconda3\\lib\\site-packages (from tensorboard<2.13,>=2.12->tensorflow-intel==2.12.0; platform_system == \"Windows\"->tensorflow==2.12.0) (1.0.1)\n",
            "Requirement already satisfied: pyparsing>=2.0.2 in c:\\programdata\\anaconda3\\lib\\site-packages (from packaging->tensorflow-intel==2.12.0; platform_system == \"Windows\"->tensorflow==2.12.0) (2.4.7)\n",
            "Collecting scipy>=1.7\n",
            "  Downloading scipy-1.10.1-cp38-cp38-win_amd64.whl (42.2 MB)\n",
            "Collecting ml-dtypes>=0.1.0\n",
            "  Downloading ml_dtypes-0.2.0-cp38-cp38-win_amd64.whl (938 kB)\n",
            "Collecting importlib-metadata>=4.6; python_version < \"3.10\"\n",
            "  Downloading importlib_metadata-8.5.0-py3-none-any.whl (26 kB)\n",
            "Collecting rsa<5,>=3.1.4\n",
            "  Downloading rsa-4.9-py3-none-any.whl (34 kB)\n",
            "Collecting cachetools<6.0,>=2.0.0\n",
            "  Downloading cachetools-5.5.0-py3-none-any.whl (9.5 kB)\n",
            "Collecting pyasn1-modules>=0.2.1\n",
            "  Downloading pyasn1_modules-0.4.1-py3-none-any.whl (181 kB)\n",
            "Requirement already satisfied: urllib3!=1.25.0,!=1.25.1,<1.26,>=1.21.1 in c:\\programdata\\anaconda3\\lib\\site-packages (from requests<3,>=2.21.0->tensorboard<2.13,>=2.12->tensorflow-intel==2.12.0; platform_system == \"Windows\"->tensorflow==2.12.0) (1.25.11)\n",
            "Requirement already satisfied: chardet<4,>=3.0.2 in c:\\programdata\\anaconda3\\lib\\site-packages (from requests<3,>=2.21.0->tensorboard<2.13,>=2.12->tensorflow-intel==2.12.0; platform_system == \"Windows\"->tensorflow==2.12.0) (3.0.4)\n",
            "Requirement already satisfied: idna<3,>=2.5 in c:\\programdata\\anaconda3\\lib\\site-packages (from requests<3,>=2.21.0->tensorboard<2.13,>=2.12->tensorflow-intel==2.12.0; platform_system == \"Windows\"->tensorflow==2.12.0) (2.10)\n",
            "Requirement already satisfied: certifi>=2017.4.17 in c:\\programdata\\anaconda3\\lib\\site-packages (from requests<3,>=2.21.0->tensorboard<2.13,>=2.12->tensorflow-intel==2.12.0; platform_system == \"Windows\"->tensorflow==2.12.0) (2020.6.20)\n",
            "Collecting requests-oauthlib>=0.7.0\n",
            "  Downloading requests_oauthlib-2.0.0-py2.py3-none-any.whl (24 kB)\n",
            "Collecting zipp>=3.20\n",
            "  Downloading zipp-3.20.2-py3-none-any.whl (9.2 kB)\n",
            "Collecting pyasn1>=0.1.3\n",
            "  Downloading pyasn1-0.6.1-py3-none-any.whl (83 kB)\n",
            "Collecting oauthlib>=3.0.0\n",
            "  Downloading oauthlib-3.2.2-py3-none-any.whl (151 kB)\n",
            "Building wheels for collected packages: jax\n",
            "  Building wheel for jax (PEP 517): started\n",
            "  Building wheel for jax (PEP 517): finished with status 'done'\n",
            "  Created wheel for jax: filename=jax-0.4.13-py3-none-any.whl size=1518827 sha256=6cb2cd46fb9ce08f27827548edd653300f10c701018b561d8797209a68a08fc7\n",
            "  Stored in directory: c:\\users\\rmdstic\\appdata\\local\\pip\\cache\\wheels\\46\\d9\\15\\d2800d4089dc4c77299ac7513c6aa1036f5491edbd2bf6ba16\n",
            "Successfully built jax\n",
            "Installing collected packages: termcolor, pyasn1, rsa, cachetools, pyasn1-modules, google-auth, numpy, absl-py, grpcio, oauthlib, requests-oauthlib, google-auth-oauthlib, tensorboard-data-server, zipp, importlib-metadata, markdown, protobuf, tensorboard, gast, opt-einsum, flatbuffers, keras, libclang, scipy, ml-dtypes, jax, tensorflow-estimator, google-pasta, tensorflow-io-gcs-filesystem, astunparse, tensorflow-intel, tensorflow\n",
            "  Attempting uninstall: numpy\n",
            "    Found existing installation: numpy 1.19.2\n",
            "    Uninstalling numpy-1.19.2:\n",
            "      Successfully uninstalled numpy-1.19.2\n",
            "  Attempting uninstall: zipp\n",
            "    Found existing installation: zipp 3.4.0\n",
            "    Uninstalling zipp-3.4.0:\n",
            "      Successfully uninstalled zipp-3.4.0\n",
            "  Attempting uninstall: importlib-metadata\n",
            "    Found existing installation: importlib-metadata 2.0.0\n",
            "    Uninstalling importlib-metadata-2.0.0:\n",
            "      Successfully uninstalled importlib-metadata-2.0.0\n",
            "  Attempting uninstall: scipy\n",
            "    Found existing installation: scipy 1.5.2\n",
            "    Uninstalling scipy-1.5.2:\n",
            "      Successfully uninstalled scipy-1.5.2\n",
            "Successfully installed absl-py-2.1.0 astunparse-1.6.3 cachetools-5.5.0 flatbuffers-24.3.25 gast-0.4.0 google-auth-2.35.0 google-auth-oauthlib-1.0.0 google-pasta-0.2.0 grpcio-1.66.2 importlib-metadata-8.5.0 jax-0.4.13 keras-2.12.0 libclang-18.1.1 markdown-3.7 ml-dtypes-0.2.0 numpy-1.23.5 oauthlib-3.2.2 opt-einsum-3.4.0 protobuf-4.25.5 pyasn1-0.6.1 pyasn1-modules-0.4.1 requests-oauthlib-2.0.0 rsa-4.9 scipy-1.10.1 tensorboard-2.12.3 tensorboard-data-server-0.7.2 tensorflow-2.12.0 tensorflow-estimator-2.12.0 tensorflow-intel-2.12.0 tensorflow-io-gcs-filesystem-0.31.0 termcolor-2.4.0 zipp-3.20.2\n"
          ]
        }
      ],
      "source": [
        "pip install tensorflow==2.12.0"
      ],
      "id": "_dE78KJQM58p"
    },
    {
      "cell_type": "code",
      "execution_count": null,
      "metadata": {
        "id": "ZtRrl1seM58s"
      },
      "outputs": [],
      "source": [
        "import pandas as pd\n",
        "import numpy as np\n",
        "import tensorflow as tf\n",
        "import matplotlib.pyplot as plt\n",
        "import seaborn as sns\n",
        "from sklearn.model_selection import train_test_split\n",
        "\n",
        "from sklearn.preprocessing import StandardScaler\n",
        "from sklearn.metrics import confusion_matrix, recall_score, accuracy_score, precision_score\n",
        "\n",
        "RANDOM_SEED = 2021\n",
        "TEST_PCT = 0.3\n",
        "LABELS = [\"Normal\",\"Fraud\"]"
      ],
      "id": "ZtRrl1seM58s"
    },
    {
      "cell_type": "code",
      "execution_count": null,
      "metadata": {
        "id": "eKZFaWjzM58u"
      },
      "outputs": [],
      "source": [
        "dataset = pd.read_csv(\"creditcard.csv\")"
      ],
      "id": "eKZFaWjzM58u"
    },
    {
      "cell_type": "code",
      "execution_count": null,
      "metadata": {
        "id": "tb8RnVOJM58v",
        "outputId": "2f5000f7-1916-4284-db6d-c9a66b2088aa"
      },
      "outputs": [
        {
          "name": "stdout",
          "output_type": "stream",
          "text": [
            "Any nulls in the dataset False\n",
            "-------\n",
            "No. of unique labels 2\n",
            "Label values [0 1]\n",
            "-------\n",
            "Break down of Normal and Fraud Transcations\n",
            "0    284315\n",
            "1       492\n",
            "Name: Class, dtype: int64\n"
          ]
        }
      ],
      "source": [
        "#check for any null values\n",
        "print(\"Any nulls in the dataset\",dataset.isnull().values.any())\n",
        "print('-------')\n",
        "print(\"No. of unique labels\",len(dataset['Class'].unique()))\n",
        "print(\"Label values\",dataset.Class.unique())\n",
        "\n",
        "#0 is for normal credit card transcation\n",
        "#1 is for fraudulent credit card transcation\n",
        "print('-------')\n",
        "print(\"Break down of Normal and Fraud Transcations\")\n",
        "print(pd.value_counts(dataset['Class'],sort=True))"
      ],
      "id": "tb8RnVOJM58v"
    },
    {
      "cell_type": "code",
      "execution_count": null,
      "metadata": {
        "id": "xlYIky7IM58w",
        "outputId": "54070e74-cb01-4371-847d-90ca20b5e66c"
      },
      "outputs": [
        {
          "data": {
            "text/plain": [
              "Text(0, 0.5, 'Number of Observations')"
            ]
          },
          "execution_count": 5,
          "metadata": {},
          "output_type": "execute_result"
        },
        {
          "data": {
            "image/png": "[encoded data removed]",
            "text/plain": [
              "<Figure size 432x288 with 1 Axes>"
            ]
          },
          "metadata": {
            "needs_background": "light"
          },
          "output_type": "display_data"
        }
      ],
      "source": [
        "#visualizing the imbalanced dataset\n",
        "count_classes = pd.value_counts(dataset['Class'],sort=True)\n",
        "count_classes.plot(kind='bar',rot=0)\n",
        "plt.xticks(range(len(dataset['Class'].unique())),dataset.Class.unique())\n",
        "plt.title(\"Frequency by observation number\")\n",
        "plt.xlabel(\"Class\")\n",
        "plt.ylabel(\"Number of Observations\")"
      ],
      "id": "xlYIky7IM58w"
    },
    {
      "cell_type": "code",
      "execution_count": null,
      "metadata": {
        "id": "SSPq-3q2M58y",
        "outputId": "664f2f7c-1d79-4d2f-e2a8-f5d15a97c729"
      },
      "outputs": [
        {
          "data": {
            "image/png": "[encoded data removed]",
            "text/plain": [
              "<Figure size 432x288 with 1 Axes>"
            ]
          },
          "metadata": {
            "needs_background": "light"
          },
          "output_type": "display_data"
        }
      ],
      "source": [
        "#Save the normal and fradulent transcations in seperate dataframe\n",
        "normal_dataset = dataset[dataset.Class == 0]\n",
        "fraud_dataset = dataset[dataset.Class == 1]\n",
        "\n",
        "#Visualize transcation amounts for normal and fraudulent transcations\n",
        "bins = np.linspace(200,2500,100)\n",
        "plt.hist(normal_dataset.Amount,bins=bins,alpha=1,density=True,label='Normal')\n",
        "plt.hist(fraud_dataset.Amount,bins=bins,alpha=0.5,density=True,label='Fraud')\n",
        "plt.legend(loc='upper right')\n",
        "plt.title(\"Transcation Amount vs Percentage of Transcations\")\n",
        "plt.xlabel(\"Transcation Amount (USD)\")\n",
        "plt.ylabel(\"Percentage of Transcations\")\n",
        "plt.show()"
      ],
      "id": "SSPq-3q2M58y"
    },
    {
      "cell_type": "code",
      "execution_count": null,
      "metadata": {
        "id": "xznxxwIVM58z",
        "outputId": "930a91fd-4c0c-42d8-83d5-d6d568ccdd69"
      },
      "outputs": [
        {
          "data": {
            "text/html": [
              "<div>\n",
              "<style scoped>\n",
              "    .dataframe tbody tr th:only-of-type {\n",
              "        vertical-align: middle;\n",
              "    }\n",
              "\n",
              "    .dataframe tbody tr th {\n",
              "        vertical-align: top;\n",
              "    }\n",
              "\n",
              "    .dataframe thead th {\n",
              "        text-align: right;\n",
              "    }\n",
              "</style>\n",
              "<table border=\"1\" class=\"dataframe\">\n",
              "  <thead>\n",
              "    <tr style=\"text-align: right;\">\n",
              "      <th></th>\n",
              "      <th>Time</th>\n",
              "      <th>V1</th>\n",
              "      <th>V2</th>\n",
              "      <th>V3</th>\n",
              "      <th>V4</th>\n",
              "      <th>V5</th>\n",
              "      <th>V6</th>\n",
              "      <th>V7</th>\n",
              "      <th>V8</th>\n",
              "      <th>V9</th>\n",
              "      <th>...</th>\n",
              "      <th>V21</th>\n",
              "      <th>V22</th>\n",
              "      <th>V23</th>\n",
              "      <th>V24</th>\n",
              "      <th>V25</th>\n",
              "      <th>V26</th>\n",
              "      <th>V27</th>\n",
              "      <th>V28</th>\n",
              "      <th>Amount</th>\n",
              "      <th>Class</th>\n",
              "    </tr>\n",
              "  </thead>\n",
              "  <tbody>\n",
              "    <tr>\n",
              "      <th>0</th>\n",
              "      <td>0.0</td>\n",
              "      <td>-1.359807</td>\n",
              "      <td>-0.072781</td>\n",
              "      <td>2.536347</td>\n",
              "      <td>1.378155</td>\n",
              "      <td>-0.338321</td>\n",
              "      <td>0.462388</td>\n",
              "      <td>0.239599</td>\n",
              "      <td>0.098698</td>\n",
              "      <td>0.363787</td>\n",
              "      <td>...</td>\n",
              "      <td>-0.018307</td>\n",
              "      <td>0.277838</td>\n",
              "      <td>-0.110474</td>\n",
              "      <td>0.066928</td>\n",
              "      <td>0.128539</td>\n",
              "      <td>-0.189115</td>\n",
              "      <td>0.133558</td>\n",
              "      <td>-0.021053</td>\n",
              "      <td>149.62</td>\n",
              "      <td>0</td>\n",
              "    </tr>\n",
              "    <tr>\n",
              "      <th>1</th>\n",
              "      <td>0.0</td>\n",
              "      <td>1.191857</td>\n",
              "      <td>0.266151</td>\n",
              "      <td>0.166480</td>\n",
              "      <td>0.448154</td>\n",
              "      <td>0.060018</td>\n",
              "      <td>-0.082361</td>\n",
              "      <td>-0.078803</td>\n",
              "      <td>0.085102</td>\n",
              "      <td>-0.255425</td>\n",
              "      <td>...</td>\n",
              "      <td>-0.225775</td>\n",
              "      <td>-0.638672</td>\n",
              "      <td>0.101288</td>\n",
              "      <td>-0.339846</td>\n",
              "      <td>0.167170</td>\n",
              "      <td>0.125895</td>\n",
              "      <td>-0.008983</td>\n",
              "      <td>0.014724</td>\n",
              "      <td>2.69</td>\n",
              "      <td>0</td>\n",
              "    </tr>\n",
              "    <tr>\n",
              "      <th>2</th>\n",
              "      <td>1.0</td>\n",
              "      <td>-1.358354</td>\n",
              "      <td>-1.340163</td>\n",
              "      <td>1.773209</td>\n",
              "      <td>0.379780</td>\n",
              "      <td>-0.503198</td>\n",
              "      <td>1.800499</td>\n",
              "      <td>0.791461</td>\n",
              "      <td>0.247676</td>\n",
              "      <td>-1.514654</td>\n",
              "      <td>...</td>\n",
              "      <td>0.247998</td>\n",
              "      <td>0.771679</td>\n",
              "      <td>0.909412</td>\n",
              "      <td>-0.689281</td>\n",
              "      <td>-0.327642</td>\n",
              "      <td>-0.139097</td>\n",
              "      <td>-0.055353</td>\n",
              "      <td>-0.059752</td>\n",
              "      <td>378.66</td>\n",
              "      <td>0</td>\n",
              "    </tr>\n",
              "    <tr>\n",
              "      <th>3</th>\n",
              "      <td>1.0</td>\n",
              "      <td>-0.966272</td>\n",
              "      <td>-0.185226</td>\n",
              "      <td>1.792993</td>\n",
              "      <td>-0.863291</td>\n",
              "      <td>-0.010309</td>\n",
              "      <td>1.247203</td>\n",
              "      <td>0.237609</td>\n",
              "      <td>0.377436</td>\n",
              "      <td>-1.387024</td>\n",
              "      <td>...</td>\n",
              "      <td>-0.108300</td>\n",
              "      <td>0.005274</td>\n",
              "      <td>-0.190321</td>\n",
              "      <td>-1.175575</td>\n",
              "      <td>0.647376</td>\n",
              "      <td>-0.221929</td>\n",
              "      <td>0.062723</td>\n",
              "      <td>0.061458</td>\n",
              "      <td>123.50</td>\n",
              "      <td>0</td>\n",
              "    </tr>\n",
              "    <tr>\n",
              "      <th>4</th>\n",
              "      <td>2.0</td>\n",
              "      <td>-1.158233</td>\n",
              "      <td>0.877737</td>\n",
              "      <td>1.548718</td>\n",
              "      <td>0.403034</td>\n",
              "      <td>-0.407193</td>\n",
              "      <td>0.095921</td>\n",
              "      <td>0.592941</td>\n",
              "      <td>-0.270533</td>\n",
              "      <td>0.817739</td>\n",
              "      <td>...</td>\n",
              "      <td>-0.009431</td>\n",
              "      <td>0.798278</td>\n",
              "      <td>-0.137458</td>\n",
              "      <td>0.141267</td>\n",
              "      <td>-0.206010</td>\n",
              "      <td>0.502292</td>\n",
              "      <td>0.219422</td>\n",
              "      <td>0.215153</td>\n",
              "      <td>69.99</td>\n",
              "      <td>0</td>\n",
              "    </tr>\n",
              "    <tr>\n",
              "      <th>...</th>\n",
              "      <td>...</td>\n",
              "      <td>...</td>\n",
              "      <td>...</td>\n",
              "      <td>...</td>\n",
              "      <td>...</td>\n",
              "      <td>...</td>\n",
              "      <td>...</td>\n",
              "      <td>...</td>\n",
              "      <td>...</td>\n",
              "      <td>...</td>\n",
              "      <td>...</td>\n",
              "      <td>...</td>\n",
              "      <td>...</td>\n",
              "      <td>...</td>\n",
              "      <td>...</td>\n",
              "      <td>...</td>\n",
              "      <td>...</td>\n",
              "      <td>...</td>\n",
              "      <td>...</td>\n",
              "      <td>...</td>\n",
              "      <td>...</td>\n",
              "    </tr>\n",
              "    <tr>\n",
              "      <th>284802</th>\n",
              "      <td>172786.0</td>\n",
              "      <td>-11.881118</td>\n",
              "      <td>10.071785</td>\n",
              "      <td>-9.834783</td>\n",
              "      <td>-2.066656</td>\n",
              "      <td>-5.364473</td>\n",
              "      <td>-2.606837</td>\n",
              "      <td>-4.918215</td>\n",
              "      <td>7.305334</td>\n",
              "      <td>1.914428</td>\n",
              "      <td>...</td>\n",
              "      <td>0.213454</td>\n",
              "      <td>0.111864</td>\n",
              "      <td>1.014480</td>\n",
              "      <td>-0.509348</td>\n",
              "      <td>1.436807</td>\n",
              "      <td>0.250034</td>\n",
              "      <td>0.943651</td>\n",
              "      <td>0.823731</td>\n",
              "      <td>0.77</td>\n",
              "      <td>0</td>\n",
              "    </tr>\n",
              "    <tr>\n",
              "      <th>284803</th>\n",
              "      <td>172787.0</td>\n",
              "      <td>-0.732789</td>\n",
              "      <td>-0.055080</td>\n",
              "      <td>2.035030</td>\n",
              "      <td>-0.738589</td>\n",
              "      <td>0.868229</td>\n",
              "      <td>1.058415</td>\n",
              "      <td>0.024330</td>\n",
              "      <td>0.294869</td>\n",
              "      <td>0.584800</td>\n",
              "      <td>...</td>\n",
              "      <td>0.214205</td>\n",
              "      <td>0.924384</td>\n",
              "      <td>0.012463</td>\n",
              "      <td>-1.016226</td>\n",
              "      <td>-0.606624</td>\n",
              "      <td>-0.395255</td>\n",
              "      <td>0.068472</td>\n",
              "      <td>-0.053527</td>\n",
              "      <td>24.79</td>\n",
              "      <td>0</td>\n",
              "    </tr>\n",
              "    <tr>\n",
              "      <th>284804</th>\n",
              "      <td>172788.0</td>\n",
              "      <td>1.919565</td>\n",
              "      <td>-0.301254</td>\n",
              "      <td>-3.249640</td>\n",
              "      <td>-0.557828</td>\n",
              "      <td>2.630515</td>\n",
              "      <td>3.031260</td>\n",
              "      <td>-0.296827</td>\n",
              "      <td>0.708417</td>\n",
              "      <td>0.432454</td>\n",
              "      <td>...</td>\n",
              "      <td>0.232045</td>\n",
              "      <td>0.578229</td>\n",
              "      <td>-0.037501</td>\n",
              "      <td>0.640134</td>\n",
              "      <td>0.265745</td>\n",
              "      <td>-0.087371</td>\n",
              "      <td>0.004455</td>\n",
              "      <td>-0.026561</td>\n",
              "      <td>67.88</td>\n",
              "      <td>0</td>\n",
              "    </tr>\n",
              "    <tr>\n",
              "      <th>284805</th>\n",
              "      <td>172788.0</td>\n",
              "      <td>-0.240440</td>\n",
              "      <td>0.530483</td>\n",
              "      <td>0.702510</td>\n",
              "      <td>0.689799</td>\n",
              "      <td>-0.377961</td>\n",
              "      <td>0.623708</td>\n",
              "      <td>-0.686180</td>\n",
              "      <td>0.679145</td>\n",
              "      <td>0.392087</td>\n",
              "      <td>...</td>\n",
              "      <td>0.265245</td>\n",
              "      <td>0.800049</td>\n",
              "      <td>-0.163298</td>\n",
              "      <td>0.123205</td>\n",
              "      <td>-0.569159</td>\n",
              "      <td>0.546668</td>\n",
              "      <td>0.108821</td>\n",
              "      <td>0.104533</td>\n",
              "      <td>10.00</td>\n",
              "      <td>0</td>\n",
              "    </tr>\n",
              "    <tr>\n",
              "      <th>284806</th>\n",
              "      <td>172792.0</td>\n",
              "      <td>-0.533413</td>\n",
              "      <td>-0.189733</td>\n",
              "      <td>0.703337</td>\n",
              "      <td>-0.506271</td>\n",
              "      <td>-0.012546</td>\n",
              "      <td>-0.649617</td>\n",
              "      <td>1.577006</td>\n",
              "      <td>-0.414650</td>\n",
              "      <td>0.486180</td>\n",
              "      <td>...</td>\n",
              "      <td>0.261057</td>\n",
              "      <td>0.643078</td>\n",
              "      <td>0.376777</td>\n",
              "      <td>0.008797</td>\n",
              "      <td>-0.473649</td>\n",
              "      <td>-0.818267</td>\n",
              "      <td>-0.002415</td>\n",
              "      <td>0.013649</td>\n",
              "      <td>217.00</td>\n",
              "      <td>0</td>\n",
              "    </tr>\n",
              "  </tbody>\n",
              "</table>\n",
              "<p>284807 rows × 31 columns</p>\n",
              "</div>"
            ],
            "text/plain": [
              "            Time         V1         V2        V3        V4        V5  \\\n",
              "0            0.0  -1.359807  -0.072781  2.536347  1.378155 -0.338321   \n",
              "1            0.0   1.191857   0.266151  0.166480  0.448154  0.060018   \n",
              "2            1.0  -1.358354  -1.340163  1.773209  0.379780 -0.503198   \n",
              "3            1.0  -0.966272  -0.185226  1.792993 -0.863291 -0.010309   \n",
              "4            2.0  -1.158233   0.877737  1.548718  0.403034 -0.407193   \n",
              "...          ...        ...        ...       ...       ...       ...   \n",
              "284802  172786.0 -11.881118  10.071785 -9.834783 -2.066656 -5.364473   \n",
              "284803  172787.0  -0.732789  -0.055080  2.035030 -0.738589  0.868229   \n",
              "284804  172788.0   1.919565  -0.301254 -3.249640 -0.557828  2.630515   \n",
              "284805  172788.0  -0.240440   0.530483  0.702510  0.689799 -0.377961   \n",
              "284806  172792.0  -0.533413  -0.189733  0.703337 -0.506271 -0.012546   \n",
              "\n",
              "              V6        V7        V8        V9  ...       V21       V22  \\\n",
              "0       0.462388  0.239599  0.098698  0.363787  ... -0.018307  0.277838   \n",
              "1      -0.082361 -0.078803  0.085102 -0.255425  ... -0.225775 -0.638672   \n",
              "2       1.800499  0.791461  0.247676 -1.514654  ...  0.247998  0.771679   \n",
              "3       1.247203  0.237609  0.377436 -1.387024  ... -0.108300  0.005274   \n",
              "4       0.095921  0.592941 -0.270533  0.817739  ... -0.009431  0.798278   \n",
              "...          ...       ...       ...       ...  ...       ...       ...   \n",
              "284802 -2.606837 -4.918215  7.305334  1.914428  ...  0.213454  0.111864   \n",
              "284803  1.058415  0.024330  0.294869  0.584800  ...  0.214205  0.924384   \n",
              "284804  3.031260 -0.296827  0.708417  0.432454  ...  0.232045  0.578229   \n",
              "284805  0.623708 -0.686180  0.679145  0.392087  ...  0.265245  0.800049   \n",
              "284806 -0.649617  1.577006 -0.414650  0.486180  ...  0.261057  0.643078   \n",
              "\n",
              "             V23       V24       V25       V26       V27       V28  Amount  \\\n",
              "0      -0.110474  0.066928  0.128539 -0.189115  0.133558 -0.021053  149.62   \n",
              "1       0.101288 -0.339846  0.167170  0.125895 -0.008983  0.014724    2.69   \n",
              "2       0.909412 -0.689281 -0.327642 -0.139097 -0.055353 -0.059752  378.66   \n",
              "3      -0.190321 -1.175575  0.647376 -0.221929  0.062723  0.061458  123.50   \n",
              "4      -0.137458  0.141267 -0.206010  0.502292  0.219422  0.215153   69.99   \n",
              "...          ...       ...       ...       ...       ...       ...     ...   \n",
              "284802  1.014480 -0.509348  1.436807  0.250034  0.943651  0.823731    0.77   \n",
              "284803  0.012463 -1.016226 -0.606624 -0.395255  0.068472 -0.053527   24.79   \n",
              "284804 -0.037501  0.640134  0.265745 -0.087371  0.004455 -0.026561   67.88   \n",
              "284805 -0.163298  0.123205 -0.569159  0.546668  0.108821  0.104533   10.00   \n",
              "284806  0.376777  0.008797 -0.473649 -0.818267 -0.002415  0.013649  217.00   \n",
              "\n",
              "        Class  \n",
              "0           0  \n",
              "1           0  \n",
              "2           0  \n",
              "3           0  \n",
              "4           0  \n",
              "...       ...  \n",
              "284802      0  \n",
              "284803      0  \n",
              "284804      0  \n",
              "284805      0  \n",
              "284806      0  \n",
              "\n",
              "[284807 rows x 31 columns]"
            ]
          },
          "execution_count": 7,
          "metadata": {},
          "output_type": "execute_result"
        }
      ],
      "source": [
        "dataset"
      ],
      "id": "xznxxwIVM58z"
    },
    {
      "cell_type": "code",
      "execution_count": null,
      "metadata": {
        "id": "XK5nbKo2M580"
      },
      "outputs": [],
      "source": [
        "sc = StandardScaler()\n",
        "dataset['Time'] = sc.fit_transform(dataset['Time'].values.reshape(-1,1))\n",
        "dataset['Amount'] = sc.fit_transform(dataset['Amount'].values.reshape(-1,1))"
      ],
      "id": "XK5nbKo2M580"
    },
    {
      "cell_type": "code",
      "execution_count": null,
      "metadata": {
        "id": "sJBSWvdGM581"
      },
      "outputs": [],
      "source": [
        "raw_data = dataset.values\n",
        "#The last element contains if the transcation is normal which is represented by 0 and if fraud then 1\n",
        "labels = raw_data[:,-1]\n",
        "\n",
        "#The other data points are the electrocadriogram data\n",
        "data = raw_data[:,0:-1]\n",
        "\n",
        "train_data,test_data,train_labels,test_labels = train_test_split(data,labels,test_size = 0.2,random_state =2021)"
      ],
      "id": "sJBSWvdGM581"
    },
    {
      "cell_type": "code",
      "execution_count": null,
      "metadata": {
        "id": "tbTRW7y2M582"
      },
      "outputs": [],
      "source": [
        "min_val = tf.reduce_min(train_data)\n",
        "max_val = tf.reduce_max(train_data)\n",
        "\n",
        "train_data = (train_data - min_val) / (max_val - min_val)\n",
        "test_data = (test_data - min_val) / (max_val - min_val)\n",
        "\n",
        "train_data = tf.cast(train_data,tf.float32)\n",
        "test_data = tf.cast(test_data,tf.float32)"
      ],
      "id": "tbTRW7y2M582"
    },
    {
      "cell_type": "code",
      "execution_count": null,
      "metadata": {
        "id": "OzhGZoZ2M582",
        "outputId": "7f532576-9fa2-4c7d-f001-f3424283eaf6"
      },
      "outputs": [
        {
          "name": "stdout",
          "output_type": "stream",
          "text": [
            "No. of records in Fraud Train Data= 389\n",
            "No. of records in Normal Train Data= 227456\n",
            "No. of records in Fraud Test Data= 103\n",
            "No. of records in Normal Test Data= 56859\n"
          ]
        }
      ],
      "source": [
        "train_labels = train_labels.astype(bool)\n",
        "test_labels = test_labels.astype(bool)\n",
        "\n",
        "#Creating normal and fraud datasets\n",
        "normal_train_data = train_data[~train_labels]\n",
        "normal_test_data = test_data[~test_labels]\n",
        "\n",
        "fraud_train_data = train_data[train_labels]\n",
        "fraud_test_data = test_data[test_labels]\n",
        "print(\"No. of records in Fraud Train Data=\",len(fraud_train_data))\n",
        "print(\"No. of records in Normal Train Data=\",len(normal_train_data))\n",
        "print(\"No. of records in Fraud Test Data=\",len(fraud_test_data))\n",
        "print(\"No. of records in Normal Test Data=\",len(normal_test_data))"
      ],
      "id": "OzhGZoZ2M582"
    },
    {
      "cell_type": "code",
      "execution_count": null,
      "metadata": {
        "id": "8DRQpclyM583"
      },
      "outputs": [],
      "source": [
        "nb_epoch = 50\n",
        "batch_size = 64\n",
        "input_dim = normal_train_data.shape[1]\n",
        "#num of columns,30\n",
        "encoding_dim = 14\n",
        "hidden_dim1 = int(encoding_dim / 2)\n",
        "hidden_dim2 = 4\n",
        "learning_rate = 1e-7"
      ],
      "id": "8DRQpclyM583"
    },
    {
      "cell_type": "code",
      "execution_count": null,
      "metadata": {
        "id": "MKPtyMUeM583",
        "outputId": "ac6748db-a362-4650-c569-0df156bbc0a7"
      },
      "outputs": [
        {
          "name": "stdout",
          "output_type": "stream",
          "text": [
            "Model: \"model\"\n",
            "_________________________________________________________________\n",
            " Layer (type)                Output Shape              Param #   \n",
            "=================================================================\n",
            " input_1 (InputLayer)        [(None, 30)]              0         \n",
            "                                                                 \n",
            " dense (Dense)               (None, 14)                434       \n",
            "                                                                 \n",
            " dropout (Dropout)           (None, 14)                0         \n",
            "                                                                 \n",
            " dense_1 (Dense)             (None, 7)                 105       \n",
            "                                                                 \n",
            " dense_2 (Dense)             (None, 4)                 32        \n",
            "                                                                 \n",
            " dense_3 (Dense)             (None, 7)                 35        \n",
            "                                                                 \n",
            " dropout_1 (Dropout)         (None, 7)                 0         \n",
            "                                                                 \n",
            " dense_4 (Dense)             (None, 14)                112       \n",
            "                                                                 \n",
            " dense_5 (Dense)             (None, 30)                450       \n",
            "                                                                 \n",
            "=================================================================\n",
            "Total params: 1,168\n",
            "Trainable params: 1,168\n",
            "Non-trainable params: 0\n",
            "_________________________________________________________________\n"
          ]
        }
      ],
      "source": [
        "#input layer\n",
        "input_layer = tf.keras.layers.Input(shape=(input_dim,))\n",
        "\n",
        "#Encoder\n",
        "encoder = tf.keras.layers.Dense(encoding_dim,activation=\"tanh\",activity_regularizer = tf.keras.regularizers.l2(learning_rate))(input_layer)\n",
        "encoder = tf.keras.layers.Dropout(0.2)(encoder)\n",
        "encoder = tf.keras.layers.Dense(hidden_dim1,activation='relu')(encoder)\n",
        "encoder = tf.keras.layers.Dense(hidden_dim2,activation=tf.nn.leaky_relu)(encoder)\n",
        "\n",
        "#Decoder\n",
        "decoder = tf.keras.layers.Dense(hidden_dim1,activation='relu')(encoder)\n",
        "decoder = tf.keras.layers.Dropout(0.2)(decoder)\n",
        "decoder = tf.keras.layers.Dense(encoding_dim,activation='relu')(decoder)\n",
        "decoder = tf.keras.layers.Dense(input_dim,activation='tanh')(decoder)\n",
        "\n",
        "#Autoencoder\n",
        "autoencoder = tf.keras.Model(inputs = input_layer,outputs = decoder)\n",
        "autoencoder.summary()"
      ],
      "id": "MKPtyMUeM583"
    },
    {
      "cell_type": "code",
      "execution_count": null,
      "metadata": {
        "id": "jxGQjACAM584"
      },
      "outputs": [],
      "source": [
        "cp = tf.keras.callbacks.ModelCheckpoint(filepath=\"autoencoder_fraud.h5\",mode='min',monitor='val_loss',verbose=2,save_best_only=True)\n",
        "#Define our early stopping\n",
        "early_stop = tf.keras.callbacks.EarlyStopping(\n",
        "                monitor='val_loss',\n",
        "                min_delta=0.0001,\n",
        "                patience=10,\n",
        "                verbose=11,\n",
        "                mode='min',\n",
        "                restore_best_weights=True\n",
        ")"
      ],
      "id": "jxGQjACAM584"
    },
    {
      "cell_type": "code",
      "execution_count": null,
      "metadata": {
        "id": "4nsHHsPCM584"
      },
      "outputs": [],
      "source": [
        "autoencoder.compile(metrics=['accuracy'],loss= 'mean_squared_error',optimizer='adam')"
      ],
      "id": "4nsHHsPCM584"
    },
    {
      "cell_type": "code",
      "execution_count": null,
      "metadata": {
        "id": "vAgLhgj7M585",
        "outputId": "60536f7e-b115-41b7-88d6-1ba27a00e53c"
      },
      "outputs": [
        {
          "name": "stdout",
          "output_type": "stream",
          "text": [
            "Epoch 1/50\n",
            "3538/3554 [============================>.] - ETA: 0s - loss: 0.0035 - accuracy: 0.0629\n",
            "Epoch 1: val_loss improved from inf to 0.00002, saving model to autoencoder_fraud.h5\n",
            "3554/3554 [==============================] - 7s 2ms/step - loss: 0.0035 - accuracy: 0.0629 - val_loss: 1.9832e-05 - val_accuracy: 0.2169\n",
            "Epoch 2/50\n",
            "3540/3554 [============================>.] - ETA: 0s - loss: 1.9256e-05 - accuracy: 0.0636\n",
            "Epoch 2: val_loss did not improve from 0.00002\n",
            "3554/3554 [==============================] - 5s 1ms/step - loss: 1.9265e-05 - accuracy: 0.0635 - val_loss: 2.0139e-05 - val_accuracy: 0.0363\n",
            "Epoch 3/50\n",
            "3541/3554 [============================>.] - ETA: 0s - loss: 1.9389e-05 - accuracy: 0.0581\n",
            "Epoch 3: val_loss did not improve from 0.00002\n",
            "3554/3554 [==============================] - 5s 1ms/step - loss: 1.9424e-05 - accuracy: 0.0582 - val_loss: 2.0224e-05 - val_accuracy: 0.0251\n",
            "Epoch 4/50\n",
            "3530/3554 [============================>.] - ETA: 0s - loss: 1.9519e-05 - accuracy: 0.0599\n",
            "Epoch 4: val_loss did not improve from 0.00002\n",
            "3554/3554 [==============================] - 5s 1ms/step - loss: 1.9509e-05 - accuracy: 0.0599 - val_loss: 2.0266e-05 - val_accuracy: 0.0596\n",
            "Epoch 5/50\n",
            "3538/3554 [============================>.] - ETA: 0s - loss: 1.9548e-05 - accuracy: 0.0567\n",
            "Epoch 5: val_loss did not improve from 0.00002\n",
            "3554/3554 [==============================] - 5s 1ms/step - loss: 1.9549e-05 - accuracy: 0.0569 - val_loss: 2.0080e-05 - val_accuracy: 0.2168\n",
            "Epoch 6/50\n",
            "3512/3554 [============================>.] - ETA: 0s - loss: 1.9542e-05 - accuracy: 0.0610\n",
            "Epoch 6: val_loss did not improve from 0.00002\n",
            "3554/3554 [==============================] - 5s 1ms/step - loss: 1.9524e-05 - accuracy: 0.0609 - val_loss: 2.0380e-05 - val_accuracy: 0.0236\n",
            "Epoch 7/50\n",
            "3551/3554 [============================>.] - ETA: 0s - loss: 1.9521e-05 - accuracy: 0.0573\n",
            "Epoch 7: val_loss did not improve from 0.00002\n",
            "3554/3554 [==============================] - 5s 1ms/step - loss: 1.9516e-05 - accuracy: 0.0574 - val_loss: 2.0164e-05 - val_accuracy: 0.0133\n",
            "Epoch 8/50\n",
            "3530/3554 [============================>.] - ETA: 0s - loss: 1.9513e-05 - accuracy: 0.0606\n",
            "Epoch 8: val_loss did not improve from 0.00002\n",
            "3554/3554 [==============================] - 5s 1ms/step - loss: 1.9507e-05 - accuracy: 0.0606 - val_loss: 1.9983e-05 - val_accuracy: 0.0661\n",
            "Epoch 9/50\n",
            "3522/3554 [============================>.] - ETA: 0s - loss: 1.9495e-05 - accuracy: 0.0599\n",
            "Epoch 9: val_loss did not improve from 0.00002\n",
            "3554/3554 [==============================] - 5s 1ms/step - loss: 1.9496e-05 - accuracy: 0.0598 - val_loss: 2.0017e-05 - val_accuracy: 0.0814\n",
            "Epoch 10/50\n",
            "3553/3554 [============================>.] - ETA: 0s - loss: 1.9499e-05 - accuracy: 0.0580\n",
            "Epoch 10: val_loss did not improve from 0.00002\n",
            "3554/3554 [==============================] - 5s 1ms/step - loss: 1.9498e-05 - accuracy: 0.0581 - val_loss: 2.0076e-05 - val_accuracy: 0.0343\n",
            "Epoch 11/50\n",
            "3525/3554 [============================>.] - ETA: 0s - loss: 1.9512e-05 - accuracy: 0.0601\n",
            "Epoch 11: val_loss did not improve from 0.00002\n",
            "Restoring model weights from the end of the best epoch: 1.\n",
            "3554/3554 [==============================] - 5s 1ms/step - loss: 1.9493e-05 - accuracy: 0.0603 - val_loss: 2.0077e-05 - val_accuracy: 0.0556\n",
            "Epoch 11: early stopping\n"
          ]
        }
      ],
      "source": [
        "history = autoencoder.fit(normal_train_data,normal_train_data,epochs = nb_epoch,\n",
        "                         batch_size = batch_size,shuffle = True,\n",
        "                         validation_data = (test_data,test_data),\n",
        "                         verbose=1,\n",
        "                         callbacks = [cp,early_stop]).history"
      ],
      "id": "vAgLhgj7M585"
    },
    {
      "cell_type": "code",
      "execution_count": null,
      "metadata": {
        "id": "fMmf_R3LM585",
        "outputId": "26ce5531-800c-4a7a-d494-37cc21127827"
      },
      "outputs": [
        {
          "data": {
            "image/png": "[encoded data removed]",
            "text/plain": [
              "<Figure size 432x288 with 1 Axes>"
            ]
          },
          "metadata": {
            "needs_background": "light"
          },
          "output_type": "display_data"
        }
      ],
      "source": [
        "plt.plot(history['loss'],linewidth = 2,label = 'Train')\n",
        "plt.plot(history['val_loss'],linewidth = 2,label = 'Test')\n",
        "plt.legend(loc='upper right')\n",
        "plt.title('Model Loss')\n",
        "plt.ylabel('Loss')\n",
        "plt.xlabel('Epoch')\n",
        "\n",
        "#plt.ylim(ymin=0.70,ymax=1)\n",
        "\n",
        "plt.show()"
      ],
      "id": "fMmf_R3LM585"
    },
    {
      "cell_type": "code",
      "execution_count": null,
      "metadata": {
        "id": "HhdO5gEgM586",
        "outputId": "a43f0364-7225-4e72-b205-bcdb0510ae96"
      },
      "outputs": [
        {
          "name": "stdout",
          "output_type": "stream",
          "text": [
            "1781/1781 [==============================] - 1s 737us/step\n"
          ]
        }
      ],
      "source": [
        "test_x_predictions = autoencoder.predict(test_data)\n",
        "mse = np.mean(np.power(test_data - test_x_predictions, 2),axis = 1)\n",
        "error_df = pd.DataFrame({'Reconstruction_error':mse,\n",
        "                         'True_class':test_labels})"
      ],
      "id": "HhdO5gEgM586"
    },
    {
      "cell_type": "code",
      "execution_count": null,
      "metadata": {
        "id": "UDpYmZDsM587",
        "outputId": "9cf958b0-2ec5-4bf8-bd15-7ac5d538d08b"
      },
      "outputs": [
        {
          "data": {
            "image/png": "[encoded data removed]",
            "text/plain": [
              "<Figure size 432x288 with 1 Axes>"
            ]
          },
          "metadata": {
            "needs_background": "light"
          },
          "output_type": "display_data"
        }
      ],
      "source": [
        "threshold_fixed = 50\n",
        "groups = error_df.groupby('True_class')\n",
        "fig,ax = plt.subplots()\n",
        "\n",
        "for name,group in groups:\n",
        "        ax.plot(group.index,group.Reconstruction_error,marker='o',ms = 3.5,linestyle='',\n",
        "                label = \"Fraud\" if  name==1 else \"Normal\")\n",
        "ax.hlines(threshold_fixed,ax.get_xlim()[0],ax.get_xlim()[1],colors=\"r\",zorder=100,label=\"Threshold\")\n",
        "ax.legend()\n",
        "plt.title(\"Reconstructions error for normal and fraud data\")\n",
        "plt.ylabel(\"Reconstruction error\")\n",
        "plt.xlabel(\"Data point index\")\n",
        "plt.show()"
      ],
      "id": "UDpYmZDsM587"
    },
    {
      "cell_type": "code",
      "execution_count": null,
      "metadata": {
        "id": "Ie77dbviM587",
        "outputId": "cb063697-7441-45fd-9b94-9d3b3ae5c8bd"
      },
      "outputs": [
        {
          "data": {
            "image/png": "[encoded data removed]",
            "text/plain": [
              "<Figure size 288x288 with 2 Axes>"
            ]
          },
          "metadata": {
            "needs_background": "light"
          },
          "output_type": "display_data"
        },
        {
          "name": "stdout",
          "output_type": "stream",
          "text": [
            "Accuracy : 0.9981917769741231\n",
            "Recall : 0.0\n",
            "Precision : 0.0\n"
          ]
        },
        {
          "name": "stderr",
          "output_type": "stream",
          "text": [
            "C:\\ProgramData\\Anaconda3\\lib\\site-packages\\sklearn\\metrics\\_classification.py:1221: UndefinedMetricWarning: Precision is ill-defined and being set to 0.0 due to no predicted samples. Use `zero_division` parameter to control this behavior.\n",
            "  _warn_prf(average, modifier, msg_start, len(result))\n"
          ]
        }
      ],
      "source": [
        "threshold_fixed = 52\n",
        "pred_y = [1 if e > threshold_fixed else 0\n",
        "          for e in\n",
        "        error_df.Reconstruction_error.values]\n",
        "error_df['pred'] = pred_y\n",
        "conf_matrix = confusion_matrix(error_df.True_class,pred_y)\n",
        "\n",
        "plt.figure(figsize = (4,4))\n",
        "sns.heatmap(conf_matrix,xticklabels = LABELS,yticklabels = LABELS,annot = True,fmt=\"d\")\n",
        "plt.title(\"Confusion matrix\")\n",
        "plt.ylabel(\"True class\")\n",
        "plt.xlabel(\"Predicted class\")\n",
        "plt.show()\n",
        "\n",
        "#Print Accuracy,Precision and Recall\n",
        "print(\"Accuracy :\",accuracy_score(error_df['True_class'],error_df['pred']))\n",
        "print(\"Recall :\",recall_score(error_df['True_class'],error_df['pred']))\n",
        "print(\"Precision :\",precision_score(error_df['True_class'],error_df['pred']))"
      ],
      "id": "Ie77dbviM587"
    },
    {
      "cell_type": "code",
      "execution_count": null,
      "metadata": {
        "id": "zQPEZmuRM587"
      },
      "outputs": [],
      "source": [],
      "id": "zQPEZmuRM587"
    }
  ],
  "metadata": {
    "kernelspec": {
      "display_name": "Python 3",
      "language": "python",
      "name": "python3"
    },
    "language_info": {
      "codemirror_mode": {
        "name": "ipython",
        "version": 3
      },
      "file_extension": ".py",
      "mimetype": "text/x-python",
      "name": "python",
      "nbconvert_exporter": "python",
      "pygments_lexer": "ipython3",
      "version": "3.8.5"
    },
    "colab": {
      "provenance": []
    }
  },
  "nbformat": 4,
  "nbformat_minor": 5
}